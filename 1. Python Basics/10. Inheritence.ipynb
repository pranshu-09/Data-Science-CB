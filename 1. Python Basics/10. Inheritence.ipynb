{
 "cells": [
  {
   "cell_type": "markdown",
   "metadata": {},
   "source": [
    "## Inheritence"
   ]
  },
  {
   "cell_type": "code",
   "execution_count": 1,
   "metadata": {},
   "outputs": [],
   "source": [
    "class Human:\n",
    "\n",
    "    aadhar_seq = 0    # Static Variables\n",
    "    population = 0\n",
    "    aadhar = []\n",
    "    \n",
    "    def __init__(self, name=\"unnamed\"):    # Constructor\n",
    "        self.id = Human.aadhar_seq\n",
    "        self.name = name\n",
    "        self.alive = True\n",
    "        Human.population += 1    \n",
    "        Human.aadhar_seq += 1\n",
    "        Human.aadhar.append(self)\n",
    "        \n",
    "    def die(self):                         # Instance Function (Can be called by objects of class)\n",
    "        if self.alive == True:\n",
    "            self.alive = False\n",
    "            Human.population -= 1\n",
    "        \n",
    "    def __repr__(self): \n",
    "        return \"{} : {} : {}\".format(self.id, self.name, self.alive)\n",
    "\n",
    "class Hitman(Human):   # Hitman class inheriting Human class\n",
    "    \n",
    "    def __init__(self, name = \"Killer\"):\n",
    "        super().__init__(name)   # To call the __init__ function of parent class, i.e., the Human class\n",
    "        self.kills = 0\n",
    "    \n",
    "    def kill(self, person):\n",
    "        \n",
    "        if self is person:    # Condition if a hitman tries to kill himself\n",
    "            print(\"Suicide is never an option\")\n",
    "        \n",
    "        elif self.alive == False:   # Condition if hitman is already dead. Hence, cannot kill if hitman is already dead\n",
    "            print(\"Hitman is already dead\")        \n",
    "        \n",
    "        elif person.alive:\n",
    "            person.die()\n",
    "            self.kills += 1\n",
    "    "
   ]
  },
  {
   "cell_type": "code",
   "execution_count": null,
   "metadata": {},
   "outputs": [],
   "source": []
  },
  {
   "cell_type": "code",
   "execution_count": 2,
   "metadata": {},
   "outputs": [],
   "source": [
    "gogo = Hitman(\"Crime Master\")\n",
    "\n",
    "pranshu = Human(\"Pranshu Bansal\")\n",
    "\n",
    "rahul = Human(\"Rahul Gupta\")"
   ]
  },
  {
   "cell_type": "code",
   "execution_count": 3,
   "metadata": {},
   "outputs": [],
   "source": [
    "gogo.kill(pranshu)"
   ]
  },
  {
   "cell_type": "code",
   "execution_count": 4,
   "metadata": {},
   "outputs": [
    {
     "data": {
      "text/plain": [
       "1"
      ]
     },
     "execution_count": 4,
     "metadata": {},
     "output_type": "execute_result"
    }
   ],
   "source": [
    "gogo.kills"
   ]
  },
  {
   "cell_type": "code",
   "execution_count": 5,
   "metadata": {},
   "outputs": [
    {
     "name": "stdout",
     "output_type": "stream",
     "text": [
      "Suicide is never an option\n"
     ]
    }
   ],
   "source": [
    "gogo.kill(gogo)"
   ]
  },
  {
   "cell_type": "code",
   "execution_count": 6,
   "metadata": {},
   "outputs": [
    {
     "data": {
      "text/plain": [
       "[0 : Crime Master : True, 1 : Pranshu Bansal : False, 2 : Rahul Gupta : True]"
      ]
     },
     "execution_count": 6,
     "metadata": {},
     "output_type": "execute_result"
    }
   ],
   "source": [
    "Human.aadhar"
   ]
  },
  {
   "cell_type": "code",
   "execution_count": 7,
   "metadata": {},
   "outputs": [],
   "source": [
    "james = Hitman(\"Bond\")"
   ]
  },
  {
   "cell_type": "code",
   "execution_count": 8,
   "metadata": {},
   "outputs": [],
   "source": [
    "gogo.kill(james)"
   ]
  },
  {
   "cell_type": "code",
   "execution_count": 9,
   "metadata": {},
   "outputs": [
    {
     "name": "stdout",
     "output_type": "stream",
     "text": [
      "Hitman is already dead\n"
     ]
    }
   ],
   "source": [
    "james.kill(rahul)"
   ]
  },
  {
   "cell_type": "code",
   "execution_count": null,
   "metadata": {},
   "outputs": [],
   "source": []
  },
  {
   "cell_type": "code",
   "execution_count": null,
   "metadata": {},
   "outputs": [],
   "source": []
  }
 ],
 "metadata": {
  "kernelspec": {
   "display_name": "Python 3",
   "language": "python",
   "name": "python3"
  },
  "language_info": {
   "codemirror_mode": {
    "name": "ipython",
    "version": 3
   },
   "file_extension": ".py",
   "mimetype": "text/x-python",
   "name": "python",
   "nbconvert_exporter": "python",
   "pygments_lexer": "ipython3",
   "version": "3.7.6"
  }
 },
 "nbformat": 4,
 "nbformat_minor": 4
}
