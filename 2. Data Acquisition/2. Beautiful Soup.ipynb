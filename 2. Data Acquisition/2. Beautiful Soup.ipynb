{
 "cells": [
  {
   "cell_type": "markdown",
   "metadata": {},
   "source": [
    "## Beautiful Soup"
   ]
  },
  {
   "cell_type": "code",
   "execution_count": 1,
   "metadata": {},
   "outputs": [],
   "source": [
    "from bs4 import BeautifulSoup\n",
    "import requests"
   ]
  },
  {
   "cell_type": "code",
   "execution_count": 2,
   "metadata": {},
   "outputs": [],
   "source": [
    "url = r\"https://codingblocks.com/\""
   ]
  },
  {
   "cell_type": "code",
   "execution_count": 3,
   "metadata": {},
   "outputs": [],
   "source": [
    "result = requests.get(url)"
   ]
  },
  {
   "cell_type": "code",
   "execution_count": 4,
   "metadata": {},
   "outputs": [
    {
     "data": {
      "text/plain": [
       "200"
      ]
     },
     "execution_count": 4,
     "metadata": {},
     "output_type": "execute_result"
    }
   ],
   "source": [
    "result.status_code"
   ]
  },
  {
   "cell_type": "code",
   "execution_count": 5,
   "metadata": {},
   "outputs": [],
   "source": [
    "soup = BeautifulSoup(result.text)"
   ]
  },
  {
   "cell_type": "code",
   "execution_count": 6,
   "metadata": {},
   "outputs": [],
   "source": [
    "# soup    Hence, we created an object that has the same text content as result.text. But the advantage we have now is that, now we can easily get specific item of the text"
   ]
  },
  {
   "cell_type": "code",
   "execution_count": 7,
   "metadata": {},
   "outputs": [
    {
     "data": {
      "text/plain": [
       "<title>Best Programming Courses &amp; IT Training Institute in Delhi NCR | Coding Blocks</title>"
      ]
     },
     "execution_count": 7,
     "metadata": {},
     "output_type": "execute_result"
    }
   ],
   "source": [
    "soup.title"
   ]
  },
  {
   "cell_type": "code",
   "execution_count": 8,
   "metadata": {},
   "outputs": [
    {
     "data": {
      "text/plain": [
       "<p class=\"bold lead mb60\">Introducing CB Accelerate, a dedicated program to train you in becoming an elite coder | Apply for the selection Test to get enrolled, accepting only 50 students per batch.</p>"
      ]
     },
     "execution_count": 8,
     "metadata": {},
     "output_type": "execute_result"
    }
   ],
   "source": [
    "soup.p   # Gives the first paragraph of the page"
   ]
  },
  {
   "cell_type": "code",
   "execution_count": 9,
   "metadata": {},
   "outputs": [
    {
     "data": {
      "text/plain": [
       "<h1 class=\"uppercase mb16\">Live Courses</h1>"
      ]
     },
     "execution_count": 9,
     "metadata": {},
     "output_type": "execute_result"
    }
   ],
   "source": [
    "soup.h1"
   ]
  },
  {
   "cell_type": "code",
   "execution_count": 10,
   "metadata": {},
   "outputs": [
    {
     "data": {
      "text/plain": [
       "[<h1 class=\"uppercase mb16\">Live Courses</h1>,\n",
       " <h1 class=\"uppercase mb16\">Classroom Courses</h1>,\n",
       " <h1 class=\"uppercase mb16\">Online Courses</h1>,\n",
       " <h1 class=\"uppercase mb16\">Our Team</h1>]"
      ]
     },
     "execution_count": 10,
     "metadata": {},
     "output_type": "execute_result"
    }
   ],
   "source": [
    "soup.find_all(\"h1\")   # Will give all the headings h1 of the page"
   ]
  },
  {
   "cell_type": "code",
   "execution_count": null,
   "metadata": {},
   "outputs": [],
   "source": []
  },
  {
   "cell_type": "code",
   "execution_count": 11,
   "metadata": {},
   "outputs": [],
   "source": [
    "img_tags = soup.find_all(\"img\")   # We get the details of all the image of the page"
   ]
  },
  {
   "cell_type": "code",
   "execution_count": 12,
   "metadata": {},
   "outputs": [],
   "source": [
    "# Now, we need to get the src of all the images from the image_tags"
   ]
  },
  {
   "cell_type": "code",
   "execution_count": 13,
   "metadata": {},
   "outputs": [],
   "source": [
    "# dir(img_tags[0])  # dir gives the methods and states/ behaviours of any object"
   ]
  },
  {
   "cell_type": "code",
   "execution_count": 14,
   "metadata": {},
   "outputs": [
    {
     "data": {
      "text/plain": [
       "'https://www.facebook.com/tr?id=1947467048859851&ev=PageView\\n    &noscript=1'"
      ]
     },
     "execution_count": 14,
     "metadata": {},
     "output_type": "execute_result"
    }
   ],
   "source": [
    "img_tags[0].get(\"src\")"
   ]
  },
  {
   "cell_type": "code",
   "execution_count": 15,
   "metadata": {},
   "outputs": [
    {
     "name": "stdout",
     "output_type": "stream",
     "text": [
      "https://www.facebook.com/tr?id=1947467048859851&ev=PageView\n",
      "    &noscript=1\n",
      "https://q.quora.com/_/ad/0e6543f4ed0047658c67c5d04a8ace8d/pixel?tag=ViewContent&noscript=1\n",
      "/assets/images/logo-light.png\n",
      "/assets/images/cb/cblogo.png\n",
      "assets/images/cb/cover/WebbannerCb.jpg\n",
      "assets/images/cb/cover/summer_batches.jpg\n",
      "assets/images/cb/cover/online_banner.jpg\n",
      "assets/images/cb/cover/cover5.jpg\n",
      "assets/images/cb/cover/cast.jpg\n",
      "https://minio.codingblocks.com/amoeba/efb2d77c-e577-406d-bb8c-f21a9beeb3a9.svg\n",
      "https://minio.codingblocks.com/amoeba/538d2648-a9ab-4a20-bac4-14017a014814.svg\n",
      "https://minio.codingblocks.com/amoeba/8363cfd5-40f7-499a-bd8d-33541baa0a5f.svg\n",
      "assets/images/cb/logosc/color_java.svg\n",
      "assets/images/cb/logosc/color_algo.svg\n",
      "https://minio.codingblocks.com/amoeba/ccfc8d7c-66ac-461e-9ba0-5ded3b1b81ee.png\n",
      "https://minio.codingblocks.com/amoeba/0ee7474c-de3c-44d7-a704-646491c702e8.svg\n",
      "https://minio.codingblocks.com/amoeba/587ae53b-6f4e-4afb-a2c5-b328a4dfbdf1.svg\n",
      "https://minio.codingblocks.com/amoeba/215fa6ed-14f3-4d1e-87d5-d9d71cf0d0dd.svg\n",
      "assets/images/cb/logosc/color_cpp.svg\n",
      "assets/images/cb/logosc/color_algo.svg\n",
      "assets/images/cb/logosc/color_java.svg\n",
      "assets/images/cb/logosc/color_java.svg\n",
      "assets/images/cb/logosc/color_python.svg\n",
      "assets/images/cb/logosc/color_android.svg\n",
      "assets/images/cb/logosc/color_nodejs.svg\n",
      "https://minio.codingblocks.com/amoeba/0ee7474c-de3c-44d7-a704-646491c702e8.svg\n",
      "assets/images/cb/logosc/color_ml.svg\n",
      "assets/images/cb/logosc/color_cp.svg\n",
      "assets/images/cb/logosc/color_python.svg\n",
      "assets/images/cb/logosc/color_cp.svg\n",
      "assets/images/cb/logosc/color_java.svg\n",
      "assets/images/cb/logosc/color_cpp.svg\n",
      "assets/images/cb/logosc/color_algo.svg\n",
      "assets/images/cb/logosc/color_java.svg\n",
      "assets/images/cb/logosc/color_nodejs.svg\n",
      "assets/images/cb/logosc/color_cp.svg\n",
      "https://minio.codingblocks.com/amoeba/bcbc38ad-abc5-4fc5-a27d-3b455130da51.svg\n",
      "assets/images/cb/logosc/color_android.svg\n",
      "assets/images/cb/logosc/color_ml.svg\n",
      "https://minio.codingblocks.com/amoeba/0ee7474c-de3c-44d7-a704-646491c702e8.svg\n",
      "assets/images/cb/team/wmanmohan.jpg\n",
      "assets/images/cb/team/wmanmohan.jpg\n",
      "assets/images/cb/team/c_badebhayia.jpg\n",
      "assets/images/cb/team/c_badebhayia.jpg\n",
      "assets/images/cb/team/wanushray.jpg\n",
      "assets/images/cb/team/wanushray.jpg\n",
      "assets/images/cb/team/wpriyanshu.jpg\n",
      "assets/images/cb/team/wpriyanshu.jpg\n",
      "assets/images/cb/team/warnav.jpg\n",
      "assets/images/cb/team/warnav.jpg\n",
      "assets/images/cb/team/wprateek.jpg\n",
      "assets/images/cb/team/wprateek.jpg\n",
      "assets/images/cb/team/Varun Final.jpg\n",
      "assets/images/cb/team/Varun Final.jpg\n",
      "assets/images/cb/team/wrajesh.jpg\n",
      "assets/images/cb/team/wrajesh.jpg\n",
      "assets/images/cb/team/wvarun.jpg\n",
      "assets/images/cb/team/wvarun.jpg\n",
      "assets/images/cb/team/Garima Final.jpg\n",
      "assets/images/cb/team/Garima Final.jpg\n",
      "assets/images/cb/team/c_rishab.jpg\n",
      "assets/images/cb/team/c_rishab.jpg\n",
      "assets/images/cb/team/Kartik.JPG\n",
      "assets/images/cb/team/Kartik.JPG\n",
      "assets/images/reviews/pic2.jpg\n",
      "assets/images/reviews/pic14.jpg\n",
      "assets/images/reviews/mpic6.jpg\n",
      "assets/images/reviews/pic49.jpg\n",
      "assets/images/reviews/pic47.jpg\n",
      "assets/images/reviews/pic33.jpeg\n",
      "assets/images/reviews/pic52.jpg\n",
      "assets/images/reviews/pic36.jpg\n",
      "assets/images/reviews/pic35.jpg\n",
      "assets/images/reviews/pic39.jpg\n",
      "assets/images/reviews/pic45.jpg\n",
      "assets/images/reviews/mpic15.jpg\n",
      "/assets/images/cb/cb_tshirt_logo.png\n",
      "https://pbs.twimg.com/profile_images/749503540184350720/WUQ7-NHv_bigger.jpg\n",
      "https://pbs.twimg.com/profile_images/749503540184350720/WUQ7-NHv_bigger.jpg\n",
      "https://pbs.twimg.com/profile_images/749503540184350720/WUQ7-NHv_bigger.jpg\n",
      "//googleads.g.doubleclick.net/pagead/viewthroughconversion/858471704/?guid=ON&script=0\n",
      "assets/images/icons/caller.png\n"
     ]
    }
   ],
   "source": [
    "for img_tag in img_tags:\n",
    "    print(img_tag.get(\"src\"))"
   ]
  },
  {
   "cell_type": "code",
   "execution_count": 16,
   "metadata": {},
   "outputs": [],
   "source": [
    "# We can see some srcs start from https and some with assets\n",
    "# This means the html links are external and the assets links are internal\n",
    "\n",
    "# We need to add https://codingblocks.com/ before assets link to make them external\n",
    "\n",
    "# The links starting with https are not clean links, hence we need to discard them"
   ]
  },
  {
   "cell_type": "code",
   "execution_count": 17,
   "metadata": {},
   "outputs": [],
   "source": [
    "# We are trying to get all the images that are of team"
   ]
  },
  {
   "cell_type": "code",
   "execution_count": 18,
   "metadata": {},
   "outputs": [],
   "source": [
    "set_urls = set()\n",
    "\n",
    "for img_tag in img_tags:\n",
    "    member_url = img_tag.get(\"src\")\n",
    "    \n",
    "    if \"team\" in member_url:\n",
    "        set_urls.add(member_url)"
   ]
  },
  {
   "cell_type": "code",
   "execution_count": 19,
   "metadata": {},
   "outputs": [
    {
     "data": {
      "text/plain": [
       "{'assets/images/cb/team/Garima Final.jpg',\n",
       " 'assets/images/cb/team/Kartik.JPG',\n",
       " 'assets/images/cb/team/Varun Final.jpg',\n",
       " 'assets/images/cb/team/c_badebhayia.jpg',\n",
       " 'assets/images/cb/team/c_rishab.jpg',\n",
       " 'assets/images/cb/team/wanushray.jpg',\n",
       " 'assets/images/cb/team/warnav.jpg',\n",
       " 'assets/images/cb/team/wmanmohan.jpg',\n",
       " 'assets/images/cb/team/wprateek.jpg',\n",
       " 'assets/images/cb/team/wpriyanshu.jpg',\n",
       " 'assets/images/cb/team/wrajesh.jpg',\n",
       " 'assets/images/cb/team/wvarun.jpg'}"
      ]
     },
     "execution_count": 19,
     "metadata": {},
     "output_type": "execute_result"
    }
   ],
   "source": [
    "set_urls    # We are using set because there might be posssibility that an image might be appearing 2 times. Hence, to get only unique urls, we used set"
   ]
  },
  {
   "cell_type": "code",
   "execution_count": 20,
   "metadata": {},
   "outputs": [
    {
     "data": {
      "text/plain": [
       "['assets/images/cb/team/c_rishab.jpg',\n",
       " 'assets/images/cb/team/Kartik.JPG',\n",
       " 'assets/images/cb/team/Varun Final.jpg',\n",
       " 'assets/images/cb/team/wprateek.jpg',\n",
       " 'assets/images/cb/team/Garima Final.jpg',\n",
       " 'assets/images/cb/team/wrajesh.jpg',\n",
       " 'assets/images/cb/team/wpriyanshu.jpg',\n",
       " 'assets/images/cb/team/wvarun.jpg',\n",
       " 'assets/images/cb/team/wmanmohan.jpg',\n",
       " 'assets/images/cb/team/wanushray.jpg',\n",
       " 'assets/images/cb/team/c_badebhayia.jpg',\n",
       " 'assets/images/cb/team/warnav.jpg']"
      ]
     },
     "execution_count": 20,
     "metadata": {},
     "output_type": "execute_result"
    }
   ],
   "source": [
    "list(set_urls)"
   ]
  },
  {
   "cell_type": "code",
   "execution_count": 21,
   "metadata": {},
   "outputs": [],
   "source": [
    "first = list(set_urls)[0]  # Converted into list as list is not indexible"
   ]
  },
  {
   "cell_type": "code",
   "execution_count": 22,
   "metadata": {},
   "outputs": [
    {
     "data": {
      "text/plain": [
       "'assets/images/cb/team/c_rishab.jpg'"
      ]
     },
     "execution_count": 22,
     "metadata": {},
     "output_type": "execute_result"
    }
   ],
   "source": [
    "first   # But, this is not the complete url. We need to add https://codingblocks.com/ to make the url complete"
   ]
  },
  {
   "cell_type": "code",
   "execution_count": 23,
   "metadata": {},
   "outputs": [],
   "source": [
    "comp_url = url + first"
   ]
  },
  {
   "cell_type": "code",
   "execution_count": 24,
   "metadata": {},
   "outputs": [
    {
     "data": {
      "text/plain": [
       "'https://codingblocks.com/assets/images/cb/team/c_rishab.jpg'"
      ]
     },
     "execution_count": 24,
     "metadata": {},
     "output_type": "execute_result"
    }
   ],
   "source": [
    "comp_url"
   ]
  },
  {
   "cell_type": "code",
   "execution_count": 25,
   "metadata": {},
   "outputs": [],
   "source": [
    "fname = comp_url.split(\"/\")[-1]   # We are splitting the url from the last '/' to get the name of the image"
   ]
  },
  {
   "cell_type": "code",
   "execution_count": 26,
   "metadata": {},
   "outputs": [
    {
     "data": {
      "text/plain": [
       "'c_rishab.jpg'"
      ]
     },
     "execution_count": 26,
     "metadata": {},
     "output_type": "execute_result"
    }
   ],
   "source": [
    "fname"
   ]
  },
  {
   "cell_type": "code",
   "execution_count": null,
   "metadata": {},
   "outputs": [],
   "source": []
  },
  {
   "cell_type": "code",
   "execution_count": 27,
   "metadata": {},
   "outputs": [],
   "source": [
    "# Now performing these operations on all the images of the set_urls"
   ]
  },
  {
   "cell_type": "code",
   "execution_count": 29,
   "metadata": {},
   "outputs": [],
   "source": [
    " def save_image(url, dest):\n",
    "        result = requests.get(url)\n",
    "        \n",
    "        if result.status_code == 200:\n",
    "            with open(dest, \"wb\") as photo:\n",
    "                photo.write(result.content)"
   ]
  },
  {
   "cell_type": "code",
   "execution_count": 30,
   "metadata": {},
   "outputs": [],
   "source": [
    "for location in list(set_urls)[:2]:    # Converted to list to do slicing\n",
    "    complete_url = url + location\n",
    "    fname = location.split(\"/\")[-1]\n",
    "    save_image(complete_url, fname)"
   ]
  },
  {
   "cell_type": "code",
   "execution_count": 31,
   "metadata": {},
   "outputs": [],
   "source": [
    "# Above code would save the first images of the set_urls. \n",
    "\n",
    "# Now, to save all the images, we want all the images to be stored in a single folder"
   ]
  },
  {
   "cell_type": "code",
   "execution_count": 38,
   "metadata": {},
   "outputs": [],
   "source": [
    "for location in list(set_urls):    # Converted to list to do slicing\n",
    "    complete_url = url + location\n",
    "    fname = location.split(\"/\")[-1]\n",
    "    save_image(complete_url, \"Photos/\" + fname)"
   ]
  },
  {
   "cell_type": "code",
   "execution_count": 33,
   "metadata": {},
   "outputs": [],
   "source": [
    "# there is no folder named Photos. Hence, first we need to create a folder if the folder does not exist"
   ]
  },
  {
   "cell_type": "code",
   "execution_count": 34,
   "metadata": {},
   "outputs": [],
   "source": [
    "import os"
   ]
  },
  {
   "cell_type": "code",
   "execution_count": 35,
   "metadata": {},
   "outputs": [],
   "source": [
    "# if os.path.exists(\"Photos\"):    This command will check if Photos folders exists or not. If it does not exist, then create the folder Photos \n",
    "#     os.mkdir(\"Photos\")"
   ]
  },
  {
   "cell_type": "code",
   "execution_count": 37,
   "metadata": {},
   "outputs": [],
   "source": [
    "if not os.path.exists(\"Photos\"):\n",
    "    os.mkdir(\"Photos\")\n",
    "\n",
    "for location in list(set_urls):    # Converted to list to do slicing\n",
    "    complete_url = url + location\n",
    "    fname = location.split(\"/\")[-1]\n",
    "    save_image(complete_url, \"Photos/\"+fname)"
   ]
  },
  {
   "cell_type": "code",
   "execution_count": null,
   "metadata": {},
   "outputs": [],
   "source": []
  },
  {
   "cell_type": "code",
   "execution_count": null,
   "metadata": {},
   "outputs": [],
   "source": []
  }
 ],
 "metadata": {
  "kernelspec": {
   "display_name": "Python 3",
   "language": "python",
   "name": "python3"
  },
  "language_info": {
   "codemirror_mode": {
    "name": "ipython",
    "version": 3
   },
   "file_extension": ".py",
   "mimetype": "text/x-python",
   "name": "python",
   "nbconvert_exporter": "python",
   "pygments_lexer": "ipython3",
   "version": "3.7.6"
  }
 },
 "nbformat": 4,
 "nbformat_minor": 4
}
